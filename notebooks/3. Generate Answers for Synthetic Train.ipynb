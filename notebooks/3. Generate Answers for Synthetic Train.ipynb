{
 "cells": [
  {
   "cell_type": "code",
   "execution_count": 1,
   "id": "e376c97c",
   "metadata": {
    "execution": {
     "iopub.execute_input": "2024-10-16T19:01:06.535263Z",
     "iopub.status.busy": "2024-10-16T19:01:06.534834Z",
     "iopub.status.idle": "2024-10-16T19:01:07.468926Z",
     "shell.execute_reply": "2024-10-16T19:01:07.467954Z"
    },
    "papermill": {
     "duration": 0.942477,
     "end_time": "2024-10-16T19:01:07.471374",
     "exception": false,
     "start_time": "2024-10-16T19:01:06.528897",
     "status": "completed"
    },
    "tags": []
   },
   "outputs": [],
   "source": [
    "import pandas as pd"
   ]
  },
  {
   "cell_type": "code",
   "execution_count": 2,
   "id": "19956641",
   "metadata": {
    "execution": {
     "iopub.execute_input": "2024-10-16T19:01:07.480489Z",
     "iopub.status.busy": "2024-10-16T19:01:07.479964Z",
     "iopub.status.idle": "2024-10-16T19:01:07.539689Z",
     "shell.execute_reply": "2024-10-16T19:01:07.538783Z"
    },
    "papermill": {
     "duration": 0.06688,
     "end_time": "2024-10-16T19:01:07.542089",
     "exception": false,
     "start_time": "2024-10-16T19:01:07.475209",
     "status": "completed"
    },
    "tags": []
   },
   "outputs": [],
   "source": [
    "synth = pd.read_csv('/kaggle/input/train-generated/train_generated.csv')"
   ]
  },
  {
   "cell_type": "code",
   "execution_count": 3,
   "id": "3c695e7d",
   "metadata": {
    "execution": {
     "iopub.execute_input": "2024-10-16T19:01:07.551842Z",
     "iopub.status.busy": "2024-10-16T19:01:07.551251Z",
     "iopub.status.idle": "2024-10-16T19:01:07.568288Z",
     "shell.execute_reply": "2024-10-16T19:01:07.567242Z"
    },
    "papermill": {
     "duration": 0.024613,
     "end_time": "2024-10-16T19:01:07.570396",
     "exception": false,
     "start_time": "2024-10-16T19:01:07.545783",
     "status": "completed"
    },
    "tags": []
   },
   "outputs": [],
   "source": [
    "prompt1 = '''\n",
    "Пример 1:\n",
    "Условие задачи:\n",
    "Анна и Галина выбирают, в каком агентстве заказать айдентику для бренда одежды. Реализуйте программу, которая поможет им сделать выбор:\\n\\nВ переменную anna_choice считывается список строк (названия агенств, которым доверяет Анна). Этот код уже написан.\\nВ переменную galina_choice считывается список строк (названия агенств, которым доверяет Галина). Этот код уже написан.\\nВ переменную top10 считывается список строк (названия агенств, входящих в топ-10).\\nГарантируется, что для каждого списка будет введено хотя бы одно значение.\\nПрограмма выводит через запятую с пробелом названия агентств из топ-10, которым одновременно доверяют и Анна, и Галина.\\nНазвания должны быть отсортированы в алфавитном порядке.\\nЕсли таких агенств нет, программа ничего не выводит.\n",
    "\n",
    "Эталонное решение автора:\n",
    "anna_choice = input().split()\\ngalina_choice = input().split()\\ntop10 = input().split()\\n\\nprint(', '.join(sorted((set(anna_choice) & set(galina_choice)).intersection(set(top10)))))\n",
    "\n",
    "Решение студента:\n",
    "anna_choice = input().split()\\ngalina_choice = input().split()\\ntop10 = input().split()\\n\\nprint(', '.join(sorted((set(anna_choice) + set(galina_choice)).intersection(set(top10)))))\n",
    "\n",
    "Подсказка:\n",
    "Ошибка в открытых и скрытых тестах. \\n\\nОбратите внимание, что оператор \"+\" не применим при сравнении множеств.\n",
    "\n",
    "Пример 2:\n",
    "Условие задачи:\n",
    "Реализуйте программу, которая напечатает хэштеги из фраз для лендинга сайта: \\n\\nВ переменную logo считывается текст лендинга. Этот код уже написан.\\nПрограмма проверяет, есть ли в этом тексте хэштеги.  Хэштегами можно считать все элементы, которые начинаются со знака \"#\" и которые не состоят только из цифр (не включая знак \"#\"). Гарантируется, что хэштеги отделены от другого текста пробелом. \\nВ конце программа печатает все хэштеги через запятую с пробелом. Хэштеги выводятся в том же порядке, в котором они идут в тексте.\\nЕсли знаков хэштегов в тексте нет, то программа ничего не печатает.\n",
    "\n",
    "Эталонное решение автора:\n",
    "logo = input()\\n\\nres = []\\nfor info in logo.split():\\n    if info.startswith('#') and info[1:].isdigit() == False:      \\n        res.append(info)\\n        \\nprint(*res, sep=', ')\n",
    "\n",
    "Решение студента:\n",
    "logo = input()\\n\\nres = []\\nfor info in logo.split()\\n    if info.startswith('#') and info[1:].isdigit() == False:      \\n        res.append(info)\\n        \\nprint(*res, sep=', ')\n",
    "\n",
    "Подсказка:\n",
    "Вы забыли поставить двоеточие после условия в цикле for.\n",
    "\n",
    "Пример 3:\n",
    "Условие задачи:\n",
    "Лолита изучает, какие студии дизайна чаще всего дают комментарии в ее любимом журнале. Помогите определить студии, встретившиеся в тексте более двух раз. Гарантируется, что в тексте только названия сервисов написаны в кавычках «». \\n\\nФОРМАТ ВВОДА\\nТекстовый файл designtalks.txt, в котором записан текст из журнала. \\nГарантируется, что пустых строк в файле нет.\\nГарантируется, что в файле будет упоминание хотя бы одной студии.\\nТакже дана строка punctuation с символами, которые могут встречаться в тексте — необходимо будет очистить от них текст.\\nФОРМАТ ВЫВОДА\\nСтудии дизайна, встретившиеся в тексте более двух раз.\\nСтудии должны быть записаны в обратном алфавитном порядке через запятую и пробел.\\nДОПОЛНИТЕЛЬНО\\nВ открытом тесте используется файл designtalks.txt. Вы можете скачать его и проверить свое решение локально.\\nВ примере в первой колонке отображается номер теста (0 — открытый тест), считывать это число или использовать его в вашем решении не нужно.\\nАЛГОРИТМ РЕШЕНИЯ \\nЭто один из возможных алгоритмов решения задачи. Вы можете воспользоваться им в качестве подсказки или решить задачу любым другим удобным для вас способом.\\nСоздайте пустой словарь, в который будете записывать слова и их количество.\\nОткройте файл в режиме чтения в кодировке utf-8.\\nОбратитесь к каждой строке в файле и выполните следующие действия:\\nуберите невидимые символы в конце строки (символ перехода на новую строку);\\nобратитесь к каждому символу в строке punctuation и используйте его для замены на пустую строку в строке файла;\\nразбейте строку по разделителю, в результате получите список;\\nобратитесь к каждому элементу в получившемся списке. Если первый символ — это кавычка «, тогда это студия дизайна, и нужно проверить:\\nесли этого названия еще нет в словаре из п.1, то нужно его добавить в качестве ключа, присвоив значение 1.\\nесли такое название уже есть в словаре из п.1, то нужно увеличить его значение на 1.\\nПосле цикла создайте пустой список — в него нужно будет добавить те названия, значение которых в словаре более 2.\\nОбратитесь к парам ключ-значение в словаре: если значение строго больше 2, то добавьте ключ в список из п.4.\\nОтсортируйте список в обратном алфавитном порядке и напечатайте его элементы через запятую и пробел.\n",
    "\n",
    "Эталонное решение автора:\n",
    "punctuation = '!#$%&()*+,-./:;<=>?@^_'\\n\\ndata = {{}}\\n\\nwith open('designtalks.txt', 'r', encoding='utf-8') as my_file:\\n    for line in my_file:\\n        line = line.strip()\\n        \\n        for p in punctuation:\\n            line = line.replace(p, '')\\n        \\n        line = line.split()\\n        for w in line:\\n            if w[0] == '«':\\n                if w not in data:\\n                    data[w] = 1\\n                else:\\n                    data[w] += 1\\n                    \\nres = []\\n\\nfor k, v in data.items():\\n    if v > 2:\\n        res.append(k)\\n        \\nprint(*sorted(res, reverse=True), sep=', ')\n",
    "\n",
    "Решение студента:\n",
    "punctuation = '!#$%&()*+,-./:;<=>?@^_'\\n\\ndata = {{}}\\n\\nwith open('designtalks.txt', 'r', encoding='utf-8') as my_file:\\n    for line in my_file:\\n        line = line.strip()\\n        \\n        for p in punctuation:\\n            line = line.replace(p, '')\\n        \\n        line = line.split()\\n        for w in line:\\n            if w[0] == '«':\\n                if w not in data:\\n                    data[w] = 1\\n                else:\\n                    data[w] += 1\\n                    \\nres = []\\n\\nfor k, v in data.items():\\n    if v > 2:\\n        res.append(v)\\n        \\nprint(*sorted(res))\n",
    "\n",
    "Подсказка:\n",
    "Ошибка в открытых и скрытых тестах. \\n\\nВаш код некорректно выполняет условия задания. Например, он не выполняет условие \"cтудии должны быть записаны в обратном алфавитном порядке через запятую и пробел\". Попробуйте изменить условную конструкцию if, чтобы скорректировать ошибку.\n",
    "\n",
    "Пример 4:\n",
    "Условие задачи:\n",
    "Реализуйте программу, определяющую слова, которые нужно переводить:\\n\\nВ переменную N считывается целое число — количество записей, которые будут введены. Этот код уже написан.\\nВ цикле while считывается N слов. \\nГарантируется, что будет введена как минимум одна строка.\\nНапечатайте количество слов, в которых буква \"а\" вне зависимости от регистра встречается не менее двух раз.\n",
    "\n",
    "Эталонное решение автора:\n",
    "N = int(input())\\n\\n# ваш код ниже\\n\\nresult = 0\\n\\nwhile N != 0:\\n    info = input()\\n    \\n    if  info.lower().count('а') >= 2:\\n        result += 1\\n    \\n    N -= 1\\n    \\nprint(result)\n",
    "\n",
    "Решение студента:\n",
    "N = int(input())\\n\\n# ваш код ниже\\n\\nresult = 0\\n\\nwhile N != 0:\\n    info = input()\\n    \\n    if  inf.lower().count('а') >= 2:\\n        result += 1\\n    \\n    N -= 1\\n    \\nprint(result)\n",
    "\n",
    "Подсказка:\n",
    "Синтаксическая ошибка. Вы пытаетесь обратиться к переменной, которую не определили ранее. Убедитесь, что корректно написали все переменные.\n",
    "\n",
    "Пример 5:\n",
    "Условие задачи:\n",
    "Реализуйте программу, которая проверит, что цвет используется только в проекте по созданию логотипа, но не в проекте по созданию дизайна сайта:\\n\\nДаны два списка logo_project и cite_project с кодами используемых цветов (строки).\\nВ переменную color считывается код цвета (строка). Этот код уже написан.\\nПрограмма должна проверять, что код цвета color есть только в списке logo_project, и если да, то печатать True. \\nВ остальных случаях программа печатает False.\n",
    "\n",
    "Эталонное решение автора:\n",
    "logo_project = ['#a7a8f0', '#a7f0ca', '#b3b4e4', '#e4b3cd', '#e4e3b3', '#c0ced7']\\ncite_project = ['#e4e3b3', '#a7a8f0', '#ccb1e6', '#b4f99e', '#f9b59e', '#c0ced7']\\n\\ncolor = input()\\n\\nif color in logo_project and not(color in cite_project):\\n    print(True)\\nelse:\\n    print(False)\n",
    "\n",
    "Решение студента:\n",
    "logo_project = ['#a7a8f0', '#a7f0ca', '#b3b4e4', '#e4b3cd', '#e4e3b3', '#c0ced7']\\ncite_project = ['#e4e3b3', '#a7a8f0', '#ccb1e6', '#b4f99e', '#f9b59e', '#c0ced7']\\n\\ncolor = input()\\n\\nif color in logo_project and not(color in cite_project):\\n    print(True)\\nelse:\\nprint(False)\n",
    "\n",
    "Подсказка:\n",
    "Вы некорректно поставили отступы перед функцией print().\n",
    "\n",
    "Теперь ваша очередь:\n",
    "Условие задачи:\n",
    "{}\n",
    "\n",
    "Эталонное решение автора:\n",
    "{}\n",
    "\n",
    "Решение студента:\n",
    "{}\n",
    "\n",
    "На основе данной информации:\n",
    "1. Проанализируйте решение студента (без комментариев).\n",
    "2. Объясните, что может быть не так в его решении, используя за основу одну или несколько из следующих фраз:\n",
    "- Обратите внимание на неверный...\n",
    "- ...необходимо проверить, что...\n",
    "- Вы забыли поставить...\n",
    "- Необходимо использовать...\n",
    "- Вы некорректно...\n",
    "- Проверьте написание...\n",
    "- В данном случае не нужно...\n",
    "- ...неверный синтаксис...\n",
    "- Ваш код охватывает не все возможные случаи...\n",
    "- Попробуйте дополнить...\n",
    "- Вы использовали неверную...\n",
    "- Ошибка при обращении к...\n",
    "- Проверьте, что...\n",
    "- Ваш код использует неверный...\n",
    "\n",
    "Важные уточнения:\n",
    "Вам достоверно известно, что ошибка следующего рода: {}\n",
    "Полное решение (код) предоставлять запрещено, тебе надо помочь студенту найти ошибку.\n",
    "Верных решений, к которым комментариев не требуется, не будет. Каждое решение содержит ошибку, которую тебе надо найти.\n",
    "\n",
    "Дайте полезную и краткую подсказку (не более трёх предложений), которая явно укажет на ошибку в решении, не предоставляя полного решения задачи.\n",
    "'''"
   ]
  },
  {
   "cell_type": "code",
   "execution_count": 4,
   "id": "2479a9c0",
   "metadata": {
    "execution": {
     "iopub.execute_input": "2024-10-16T19:01:07.579936Z",
     "iopub.status.busy": "2024-10-16T19:01:07.579124Z",
     "iopub.status.idle": "2024-10-16T19:01:21.971740Z",
     "shell.execute_reply": "2024-10-16T19:01:21.970526Z"
    },
    "papermill": {
     "duration": 14.400553,
     "end_time": "2024-10-16T19:01:21.974438",
     "exception": false,
     "start_time": "2024-10-16T19:01:07.573885",
     "status": "completed"
    },
    "tags": []
   },
   "outputs": [
    {
     "name": "stdout",
     "output_type": "stream",
     "text": [
      "Collecting openai\r\n",
      "  Downloading openai-1.51.2-py3-none-any.whl.metadata (24 kB)\r\n",
      "Requirement already satisfied: anyio<5,>=3.5.0 in /opt/conda/lib/python3.10/site-packages (from openai) (4.4.0)\r\n",
      "Requirement already satisfied: distro<2,>=1.7.0 in /opt/conda/lib/python3.10/site-packages (from openai) (1.9.0)\r\n",
      "Requirement already satisfied: httpx<1,>=0.23.0 in /opt/conda/lib/python3.10/site-packages (from openai) (0.27.0)\r\n",
      "Collecting jiter<1,>=0.4.0 (from openai)\r\n",
      "  Downloading jiter-0.6.1-cp310-cp310-manylinux_2_17_x86_64.manylinux2014_x86_64.whl.metadata (5.2 kB)\r\n",
      "Requirement already satisfied: pydantic<3,>=1.9.0 in /opt/conda/lib/python3.10/site-packages (from openai) (2.9.2)\r\n",
      "Requirement already satisfied: sniffio in /opt/conda/lib/python3.10/site-packages (from openai) (1.3.1)\r\n",
      "Requirement already satisfied: tqdm>4 in /opt/conda/lib/python3.10/site-packages (from openai) (4.66.4)\r\n",
      "Requirement already satisfied: typing-extensions<5,>=4.11 in /opt/conda/lib/python3.10/site-packages (from openai) (4.12.2)\r\n",
      "Requirement already satisfied: idna>=2.8 in /opt/conda/lib/python3.10/site-packages (from anyio<5,>=3.5.0->openai) (3.7)\r\n",
      "Requirement already satisfied: exceptiongroup>=1.0.2 in /opt/conda/lib/python3.10/site-packages (from anyio<5,>=3.5.0->openai) (1.2.0)\r\n",
      "Requirement already satisfied: certifi in /opt/conda/lib/python3.10/site-packages (from httpx<1,>=0.23.0->openai) (2024.8.30)\r\n",
      "Requirement already satisfied: httpcore==1.* in /opt/conda/lib/python3.10/site-packages (from httpx<1,>=0.23.0->openai) (1.0.5)\r\n",
      "Requirement already satisfied: h11<0.15,>=0.13 in /opt/conda/lib/python3.10/site-packages (from httpcore==1.*->httpx<1,>=0.23.0->openai) (0.14.0)\r\n",
      "Requirement already satisfied: annotated-types>=0.6.0 in /opt/conda/lib/python3.10/site-packages (from pydantic<3,>=1.9.0->openai) (0.7.0)\r\n",
      "Requirement already satisfied: pydantic-core==2.23.4 in /opt/conda/lib/python3.10/site-packages (from pydantic<3,>=1.9.0->openai) (2.23.4)\r\n",
      "Downloading openai-1.51.2-py3-none-any.whl (383 kB)\r\n",
      "\u001b[2K   \u001b[90m━━━━━━━━━━━━━━━━━━━━━━━━━━━━━━━━━━━━━━━━\u001b[0m \u001b[32m383.7/383.7 kB\u001b[0m \u001b[31m7.0 MB/s\u001b[0m eta \u001b[36m0:00:00\u001b[0m\r\n",
      "\u001b[?25hDownloading jiter-0.6.1-cp310-cp310-manylinux_2_17_x86_64.manylinux2014_x86_64.whl (325 kB)\r\n",
      "\u001b[2K   \u001b[90m━━━━━━━━━━━━━━━━━━━━━━━━━━━━━━━━━━━━━━━━\u001b[0m \u001b[32m325.2/325.2 kB\u001b[0m \u001b[31m18.5 MB/s\u001b[0m eta \u001b[36m0:00:00\u001b[0m\r\n",
      "\u001b[?25hInstalling collected packages: jiter, openai\r\n",
      "Successfully installed jiter-0.6.1 openai-1.51.2\r\n"
     ]
    }
   ],
   "source": [
    "!pip install openai"
   ]
  },
  {
   "cell_type": "code",
   "execution_count": 5,
   "id": "c07c6fc0",
   "metadata": {
    "execution": {
     "iopub.execute_input": "2024-10-16T19:01:21.985510Z",
     "iopub.status.busy": "2024-10-16T19:01:21.985022Z",
     "iopub.status.idle": "2024-10-16T19:01:22.849349Z",
     "shell.execute_reply": "2024-10-16T19:01:22.848187Z"
    },
    "papermill": {
     "duration": 0.872806,
     "end_time": "2024-10-16T19:01:22.851803",
     "exception": false,
     "start_time": "2024-10-16T19:01:21.978997",
     "status": "completed"
    },
    "tags": []
   },
   "outputs": [],
   "source": [
    "from openai import OpenAI"
   ]
  },
  {
   "cell_type": "code",
   "execution_count": 6,
   "id": "c0a2cdb3",
   "metadata": {
    "execution": {
     "iopub.execute_input": "2024-10-16T19:01:22.862268Z",
     "iopub.status.busy": "2024-10-16T19:01:22.861701Z",
     "iopub.status.idle": "2024-10-16T19:01:22.883201Z",
     "shell.execute_reply": "2024-10-16T19:01:22.882295Z"
    },
    "papermill": {
     "duration": 0.029582,
     "end_time": "2024-10-16T19:01:22.885748",
     "exception": false,
     "start_time": "2024-10-16T19:01:22.856166",
     "status": "completed"
    },
    "tags": []
   },
   "outputs": [],
   "source": [
    "client = OpenAI(\n",
    "    api_key='secret'\n",
    ")\n",
    "\n",
    "def get_hint(description, author_solution, student_solution, help_, client=client):\n",
    "    prompt_f = prompt1.format(description, author_solution, student_solution, help_)\n",
    "    messages = [\n",
    "      {'role': 'user', 'content': prompt_f}\n",
    "    ]\n",
    "    completion = client.chat.completions.create(\n",
    "        model='gpt-4o', \n",
    "        messages=messages, \n",
    "        temperature=0.5,\n",
    "        max_tokens=1024,\n",
    "        top_p=0.7\n",
    "    )\n",
    "    result_str = completion.choices[0].message.content\n",
    "    return result_str"
   ]
  },
  {
   "cell_type": "code",
   "execution_count": 7,
   "id": "e9735456",
   "metadata": {
    "execution": {
     "iopub.execute_input": "2024-10-16T19:01:22.896108Z",
     "iopub.status.busy": "2024-10-16T19:01:22.895724Z",
     "iopub.status.idle": "2024-10-16T19:01:22.905207Z",
     "shell.execute_reply": "2024-10-16T19:01:22.904320Z"
    },
    "papermill": {
     "duration": 0.017486,
     "end_time": "2024-10-16T19:01:22.907660",
     "exception": false,
     "start_time": "2024-10-16T19:01:22.890174",
     "status": "completed"
    },
    "tags": []
   },
   "outputs": [],
   "source": [
    "from tqdm import tqdm"
   ]
  },
  {
   "cell_type": "code",
   "execution_count": 8,
   "id": "6d710805",
   "metadata": {
    "execution": {
     "iopub.execute_input": "2024-10-16T19:01:22.918381Z",
     "iopub.status.busy": "2024-10-16T19:01:22.917542Z",
     "iopub.status.idle": "2024-10-16T19:01:22.922140Z",
     "shell.execute_reply": "2024-10-16T19:01:22.921160Z"
    },
    "papermill": {
     "duration": 0.012282,
     "end_time": "2024-10-16T19:01:22.924279",
     "exception": false,
     "start_time": "2024-10-16T19:01:22.911997",
     "status": "completed"
    },
    "tags": []
   },
   "outputs": [],
   "source": [
    "import pickle"
   ]
  },
  {
   "cell_type": "code",
   "execution_count": 9,
   "id": "4c749b36",
   "metadata": {
    "execution": {
     "iopub.execute_input": "2024-10-16T19:01:22.934394Z",
     "iopub.status.busy": "2024-10-16T19:01:22.933931Z",
     "iopub.status.idle": "2024-10-16T20:49:47.430430Z",
     "shell.execute_reply": "2024-10-16T20:49:47.429434Z"
    },
    "papermill": {
     "duration": 6504.578346,
     "end_time": "2024-10-16T20:49:47.506906",
     "exception": false,
     "start_time": "2024-10-16T19:01:22.928560",
     "status": "completed"
    },
    "tags": []
   },
   "outputs": [
    {
     "name": "stderr",
     "output_type": "stream",
     "text": [
      "  0%|          | 0/1108 [00:00<?, ?it/s]"
     ]
    },
    {
     "name": "stdout",
     "output_type": "stream",
     "text": [
      "величайший за работой, строка номер 0\n"
     ]
    },
    {
     "name": "stderr",
     "output_type": "stream",
     "text": [
      "  5%|▍         | 50/1108 [04:00<1:44:41,  5.94s/it]"
     ]
    },
    {
     "name": "stdout",
     "output_type": "stream",
     "text": [
      "величайший за работой, строка номер 50\n"
     ]
    },
    {
     "name": "stderr",
     "output_type": "stream",
     "text": [
      "  9%|▉         | 100/1108 [09:00<1:41:33,  6.05s/it]"
     ]
    },
    {
     "name": "stdout",
     "output_type": "stream",
     "text": [
      "величайший за работой, строка номер 100\n"
     ]
    },
    {
     "name": "stderr",
     "output_type": "stream",
     "text": [
      " 14%|█▎        | 150/1108 [13:51<1:32:10,  5.77s/it]"
     ]
    },
    {
     "name": "stdout",
     "output_type": "stream",
     "text": [
      "величайший за работой, строка номер 150\n"
     ]
    },
    {
     "name": "stderr",
     "output_type": "stream",
     "text": [
      " 18%|█▊        | 200/1108 [18:49<1:30:17,  5.97s/it]"
     ]
    },
    {
     "name": "stdout",
     "output_type": "stream",
     "text": [
      "величайший за работой, строка номер 200\n"
     ]
    },
    {
     "name": "stderr",
     "output_type": "stream",
     "text": [
      " 23%|██▎       | 250/1108 [23:40<1:25:05,  5.95s/it]"
     ]
    },
    {
     "name": "stdout",
     "output_type": "stream",
     "text": [
      "величайший за работой, строка номер 250\n"
     ]
    },
    {
     "name": "stderr",
     "output_type": "stream",
     "text": [
      " 27%|██▋       | 300/1108 [28:36<1:20:07,  5.95s/it]"
     ]
    },
    {
     "name": "stdout",
     "output_type": "stream",
     "text": [
      "величайший за работой, строка номер 300\n"
     ]
    },
    {
     "name": "stderr",
     "output_type": "stream",
     "text": [
      " 32%|███▏      | 350/1108 [33:31<1:18:25,  6.21s/it]"
     ]
    },
    {
     "name": "stdout",
     "output_type": "stream",
     "text": [
      "величайший за работой, строка номер 350\n"
     ]
    },
    {
     "name": "stderr",
     "output_type": "stream",
     "text": [
      " 36%|███▌      | 400/1108 [38:30<1:11:09,  6.03s/it]"
     ]
    },
    {
     "name": "stdout",
     "output_type": "stream",
     "text": [
      "величайший за работой, строка номер 400\n"
     ]
    },
    {
     "name": "stderr",
     "output_type": "stream",
     "text": [
      " 41%|████      | 450/1108 [43:20<1:00:26,  5.51s/it]"
     ]
    },
    {
     "name": "stdout",
     "output_type": "stream",
     "text": [
      "величайший за работой, строка номер 450\n"
     ]
    },
    {
     "name": "stderr",
     "output_type": "stream",
     "text": [
      " 45%|████▌     | 500/1108 [48:24<59:40,  5.89s/it]"
     ]
    },
    {
     "name": "stdout",
     "output_type": "stream",
     "text": [
      "величайший за работой, строка номер 500\n"
     ]
    },
    {
     "name": "stderr",
     "output_type": "stream",
     "text": [
      " 50%|████▉     | 550/1108 [53:22<56:13,  6.05s/it]"
     ]
    },
    {
     "name": "stdout",
     "output_type": "stream",
     "text": [
      "величайший за работой, строка номер 550\n"
     ]
    },
    {
     "name": "stderr",
     "output_type": "stream",
     "text": [
      " 54%|█████▍    | 600/1108 [58:16<50:55,  6.01s/it]"
     ]
    },
    {
     "name": "stdout",
     "output_type": "stream",
     "text": [
      "величайший за работой, строка номер 600\n"
     ]
    },
    {
     "name": "stderr",
     "output_type": "stream",
     "text": [
      " 59%|█████▊    | 650/1108 [1:03:08<46:46,  6.13s/it]"
     ]
    },
    {
     "name": "stdout",
     "output_type": "stream",
     "text": [
      "величайший за работой, строка номер 650\n"
     ]
    },
    {
     "name": "stderr",
     "output_type": "stream",
     "text": [
      " 63%|██████▎   | 700/1108 [1:08:05<41:54,  6.16s/it]"
     ]
    },
    {
     "name": "stdout",
     "output_type": "stream",
     "text": [
      "величайший за работой, строка номер 700\n"
     ]
    },
    {
     "name": "stderr",
     "output_type": "stream",
     "text": [
      " 68%|██████▊   | 750/1108 [1:13:04<35:44,  5.99s/it]"
     ]
    },
    {
     "name": "stdout",
     "output_type": "stream",
     "text": [
      "величайший за работой, строка номер 750\n"
     ]
    },
    {
     "name": "stderr",
     "output_type": "stream",
     "text": [
      " 72%|███████▏  | 800/1108 [1:17:55<30:09,  5.88s/it]"
     ]
    },
    {
     "name": "stdout",
     "output_type": "stream",
     "text": [
      "величайший за работой, строка номер 800\n"
     ]
    },
    {
     "name": "stderr",
     "output_type": "stream",
     "text": [
      " 77%|███████▋  | 850/1108 [1:23:00<23:57,  5.57s/it]"
     ]
    },
    {
     "name": "stdout",
     "output_type": "stream",
     "text": [
      "величайший за работой, строка номер 850\n"
     ]
    },
    {
     "name": "stderr",
     "output_type": "stream",
     "text": [
      " 81%|████████  | 900/1108 [1:27:48<19:51,  5.73s/it]"
     ]
    },
    {
     "name": "stdout",
     "output_type": "stream",
     "text": [
      "величайший за работой, строка номер 900\n"
     ]
    },
    {
     "name": "stderr",
     "output_type": "stream",
     "text": [
      " 86%|████████▌ | 950/1108 [1:32:41<16:18,  6.19s/it]"
     ]
    },
    {
     "name": "stdout",
     "output_type": "stream",
     "text": [
      "величайший за работой, строка номер 950\n"
     ]
    },
    {
     "name": "stderr",
     "output_type": "stream",
     "text": [
      " 90%|█████████ | 1000/1108 [1:37:31<10:33,  5.86s/it]"
     ]
    },
    {
     "name": "stdout",
     "output_type": "stream",
     "text": [
      "величайший за работой, строка номер 1000\n"
     ]
    },
    {
     "name": "stderr",
     "output_type": "stream",
     "text": [
      " 95%|█████████▍| 1050/1108 [1:42:34<05:52,  6.07s/it]"
     ]
    },
    {
     "name": "stdout",
     "output_type": "stream",
     "text": [
      "величайший за работой, строка номер 1050\n"
     ]
    },
    {
     "name": "stderr",
     "output_type": "stream",
     "text": [
      " 99%|█████████▉| 1100/1108 [1:47:38<00:46,  5.76s/it]"
     ]
    },
    {
     "name": "stdout",
     "output_type": "stream",
     "text": [
      "величайший за работой, строка номер 1100\n"
     ]
    },
    {
     "name": "stderr",
     "output_type": "stream",
     "text": [
      "100%|██████████| 1108/1108 [1:48:24<00:00,  5.87s/it]\n"
     ]
    }
   ],
   "source": [
    "hints = []\n",
    "counter = 0\n",
    "for i in tqdm(range(len(synth))):\n",
    "    if counter % 50 == 0:\n",
    "        print(f'величайший за работой, строка номер {counter}')\n",
    "        with open(f'hints_synth_{counter}.pkl', 'wb') as file:\n",
    "            pickle.dump(hints, file)\n",
    "        \n",
    "    student = synth.iloc[i]\n",
    "\n",
    "    description = student.description\n",
    "    author_solution = student.author_solution\n",
    "    student_solution = student.student_solution\n",
    "    help_ = student.help\n",
    "    \n",
    "    hint = get_hint(description, author_solution, student_solution, help_)\n",
    "    hints.append(hint)\n",
    "    \n",
    "    counter += 1"
   ]
  },
  {
   "cell_type": "code",
   "execution_count": 10,
   "id": "d4bdc6c1",
   "metadata": {
    "execution": {
     "iopub.execute_input": "2024-10-16T20:49:47.658265Z",
     "iopub.status.busy": "2024-10-16T20:49:47.657335Z",
     "iopub.status.idle": "2024-10-16T20:49:47.663183Z",
     "shell.execute_reply": "2024-10-16T20:49:47.662269Z"
    },
    "papermill": {
     "duration": 0.08372,
     "end_time": "2024-10-16T20:49:47.665322",
     "exception": false,
     "start_time": "2024-10-16T20:49:47.581602",
     "status": "completed"
    },
    "tags": []
   },
   "outputs": [],
   "source": [
    "with open('hints_synth_total.pkl', 'wb') as file:\n",
    "    pickle.dump(hints, file)"
   ]
  }
 ],
 "metadata": {
  "kaggle": {
   "accelerator": "none",
   "dataSources": [
    {
     "datasetId": 5868092,
     "sourceId": 9617308,
     "sourceType": "datasetVersion"
    },
    {
     "datasetId": 5888242,
     "sourceId": 9642336,
     "sourceType": "datasetVersion"
    },
    {
     "datasetId": 5889526,
     "sourceId": 9644052,
     "sourceType": "datasetVersion"
    }
   ],
   "dockerImageVersionId": 30786,
   "isGpuEnabled": false,
   "isInternetEnabled": true,
   "language": "python",
   "sourceType": "notebook"
  },
  "kernelspec": {
   "display_name": "Python 3",
   "language": "python",
   "name": "python3"
  },
  "language_info": {
   "codemirror_mode": {
    "name": "ipython",
    "version": 3
   },
   "file_extension": ".py",
   "mimetype": "text/x-python",
   "name": "python",
   "nbconvert_exporter": "python",
   "pygments_lexer": "ipython3",
   "version": "3.10.14"
  },
  "papermill": {
   "default_parameters": {},
   "duration": 6524.586137,
   "end_time": "2024-10-16T20:49:48.360349",
   "environment_variables": {},
   "exception": null,
   "input_path": "__notebook__.ipynb",
   "output_path": "__notebook__.ipynb",
   "parameters": {},
   "start_time": "2024-10-16T19:01:03.774212",
   "version": "2.6.0"
  }
 },
 "nbformat": 4,
 "nbformat_minor": 5
}
